import pandas as pd
df = pd.read_csv('path/to/your/dataset.csv')
df.head()
