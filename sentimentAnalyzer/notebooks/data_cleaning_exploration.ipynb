import pandas as pd
df = pd.read_csv('sentimentAnalyzer/data/Womens Clothing E-Commerce Reviews.csv')
df.head()
